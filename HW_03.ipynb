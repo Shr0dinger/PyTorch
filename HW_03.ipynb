{
  "cells": [
    {
      "cell_type": "markdown",
      "source": [
        "Загрузка библиотек:"
      ],
      "metadata": {
        "id": "PG2qog3NNHh9"
      }
    },
    {
      "cell_type": "code",
      "source": [
        "import torch\n",
        "import torch.nn.functional as F\n",
        "import torch.nn as nn\n",
        "\n",
        "from torchvision import transforms, datasets\n",
        "\n",
        "import numpy as np\n",
        "import matplotlib.pyplot as plt\n",
        "\n",
        "from sklearn.model_selection import train_test_split\n",
        "from sklearn.datasets import fetch_california_housing"
      ],
      "metadata": {
        "id": "ODMSlLnXNGH1"
      },
      "execution_count": 1,
      "outputs": []
    },
    {
      "cell_type": "markdown",
      "source": [
        "Загрузка и разбиение данных:"
      ],
      "metadata": {
        "id": "Ulb9f2bpNKo5"
      }
    },
    {
      "cell_type": "code",
      "source": [
        "data = fetch_california_housing()\n",
        "X, Y = data.data, data.target\n",
        "\n",
        "X_train, X_test, y_train, y_test = train_test_split(X, Y, test_size=0.25, random_state=13)\n",
        "\n",
        "n_features_reg = X_train.shape[1]\n",
        "\n",
        "X_train_reg, X_test_reg = torch.tensor(X_train, dtype=torch.float32), torch.tensor(X_test, dtype=torch.float32)\n",
        "Y_train_reg, Y_test_reg = torch.tensor(y_train, dtype=torch.float32), torch.tensor(y_test, dtype=torch.float32)\n",
        "\n",
        "X_train_reg.shape, X_test_reg.shape, Y_train_reg.shape, Y_test_reg.shape"
      ],
      "metadata": {
        "colab": {
          "base_uri": "https://localhost:8080/"
        },
        "id": "XDrwESB1xnqw",
        "outputId": "62bbea29-2288-442a-9f06-bc000adb1e04"
      },
      "execution_count": 2,
      "outputs": [
        {
          "output_type": "execute_result",
          "data": {
            "text/plain": [
              "(torch.Size([15480, 8]),\n",
              " torch.Size([5160, 8]),\n",
              " torch.Size([15480]),\n",
              " torch.Size([5160]))"
            ]
          },
          "metadata": {},
          "execution_count": 2
        }
      ]
    },
    {
      "cell_type": "markdown",
      "source": [
        "Регуляризация данных:"
      ],
      "metadata": {
        "id": "SHxN1NEANShd"
      }
    },
    {
      "cell_type": "code",
      "source": [
        "mean = X_train_reg.mean(axis=0)\n",
        "std = X_train_reg.std(axis=0)\n",
        "\n",
        "X_train_reg = (X_train_reg - mean)/ std\n",
        "X_test_reg = (X_test_reg - mean)/ std"
      ],
      "metadata": {
        "id": "pd2-5oyglnuA"
      },
      "execution_count": 3,
      "outputs": []
    },
    {
      "cell_type": "markdown",
      "source": [
        "Класс со своим датасетом:"
      ],
      "metadata": {
        "id": "muSf0GICNWM5"
      }
    },
    {
      "cell_type": "code",
      "source": [
        "class LinearRegressionDataset(torch.utils.data.Dataset):\n",
        "    def __init__(self, X, y):\n",
        "        self.X = X\n",
        "        self.y = y\n",
        "    \n",
        "    def __len__(self):\n",
        "        return len(self.X)\n",
        "    \n",
        "    def __getitem__(self, idx):\n",
        "        return self.X[idx], self.y[idx]"
      ],
      "metadata": {
        "id": "XGMXcJ4r43WO"
      },
      "execution_count": 4,
      "outputs": []
    },
    {
      "cell_type": "markdown",
      "source": [
        "DataLoader:"
      ],
      "metadata": {
        "id": "WX7p2vSNNaM-"
      }
    },
    {
      "cell_type": "code",
      "source": [
        "train_loader = torch.utils.data.DataLoader(dataset = LinearRegressionDataset(X_train, y_train), batch_size=64)\n",
        "test_loader = torch.utils.data.DataLoader(dataset = LinearRegressionDataset(X_test, y_test), batch_size=64)"
      ],
      "metadata": {
        "id": "5kptu8YUVxn_"
      },
      "execution_count": 5,
      "outputs": []
    },
    {
      "cell_type": "markdown",
      "source": [
        "Построение модели регрессии:"
      ],
      "metadata": {
        "id": "dCLiC621NdG1"
      }
    },
    {
      "cell_type": "code",
      "source": [
        "class Regressor(nn.Module):\n",
        "    def __init__(self):\n",
        "        super(Regressor, self).__init__()\n",
        "        self.lin1 = nn.Linear(n_features_reg, 5)\n",
        "        self.bn = nn.BatchNorm1d(5)\n",
        "        self.dp = nn.Dropout(0.25)\n",
        "        self.lin2 = nn.Linear(5, 10)\n",
        "        self.lin3 = nn.Linear(10, 15)\n",
        "        self.lin4 = nn.Linear(15,1)\n",
        "\n",
        "    def forward(self, X_batch):\n",
        "        layer_out = F.relu(self.lin1(X_batch))\n",
        "        layer_out = self.bn(layer_out)\n",
        "        layer_out = self.dp(layer_out)\n",
        "        layer_out = F.relu(self.lin2(layer_out))\n",
        "        layer_out = F.relu(self.lin3(layer_out))\n",
        "\n",
        "        return self.lin4(layer_out).ravel()\n",
        "\n",
        "regressor = Regressor()\n",
        "preds = regressor(X_train_reg[:5])\n",
        "preds"
      ],
      "metadata": {
        "colab": {
          "base_uri": "https://localhost:8080/"
        },
        "id": "BIhQkC2jgDr1",
        "outputId": "00d005fc-2647-49ff-f1f0-45d4a91ca197"
      },
      "execution_count": 6,
      "outputs": [
        {
          "output_type": "execute_result",
          "data": {
            "text/plain": [
              "tensor([-0.0813, -0.0751, -0.4667,  0.0268, -0.1443], grad_fn=<ViewBackward0>)"
            ]
          },
          "metadata": {},
          "execution_count": 6
        }
      ]
    },
    {
      "cell_type": "markdown",
      "source": [
        "Обучение модели:"
      ],
      "metadata": {
        "id": "Hv2R8tx0Nivv"
      }
    },
    {
      "cell_type": "code",
      "source": [
        "def TrainModel(model, loss_func, optimizer, X, Y, epochs=500):\n",
        "    for i in range(epochs):\n",
        "        preds = model(X) ## Make Predictions by forward pass through network\n",
        "\n",
        "        loss = loss_func(preds, Y) ## Calculate Loss\n",
        "\n",
        "        optimizer.zero_grad() ## Zero weights before calculating gradients\n",
        "        loss.backward() ## Calculate Gradients\n",
        "        optimizer.step() ## Update Weights\n",
        "\n",
        "        if i % 1000 == 0: ## Print Loss every 1000 epochs\n",
        "            print(\"Loss : {:.2f}\".format(loss))"
      ],
      "metadata": {
        "id": "l7qe3zHDhyJi"
      },
      "execution_count": 7,
      "outputs": []
    },
    {
      "cell_type": "code",
      "source": [
        "from torch.optim import SGD, RMSprop, Adam\n",
        "from sklearn.metrics import r2_score"
      ],
      "metadata": {
        "id": "nEJJiwYQMqq8"
      },
      "execution_count": 8,
      "outputs": []
    },
    {
      "cell_type": "markdown",
      "source": [
        "Тестирование на трех оптимайзерах:"
      ],
      "metadata": {
        "id": "XbRkde38Nnis"
      }
    },
    {
      "cell_type": "code",
      "source": [
        "torch.manual_seed(42) ##For reproducibility.This will make sure that same random weights are initialized each time.\n",
        "\n",
        "epochs = 5000\n",
        "learning_rate = torch.tensor(0.001)\n",
        "\n",
        "regressor = Regressor()\n",
        "mse_loss = nn.MSELoss()\n",
        "optimizer = SGD(params=regressor.parameters(), lr=learning_rate)\n",
        "\n",
        "TrainModel(regressor, mse_loss, optimizer, X_train_reg, Y_train_reg, epochs=epochs)"
      ],
      "metadata": {
        "colab": {
          "base_uri": "https://localhost:8080/"
        },
        "id": "2ab0IhyxMrbe",
        "outputId": "89ce5151-e0be-49a5-a4e3-579dace0a959"
      },
      "execution_count": 9,
      "outputs": [
        {
          "output_type": "stream",
          "name": "stdout",
          "text": [
            "Loss : 5.82\n",
            "Loss : 0.95\n",
            "Loss : 0.75\n",
            "Loss : 0.64\n",
            "Loss : 0.60\n"
          ]
        }
      ]
    },
    {
      "cell_type": "code",
      "source": [
        "test_preds = regressor(X_test_reg)\n",
        "print(\"Test  R^2 Score : {:.2f}\".format(r2_score(test_preds.detach().numpy().squeeze(), Y_test_reg.detach().numpy())))"
      ],
      "metadata": {
        "colab": {
          "base_uri": "https://localhost:8080/"
        },
        "id": "ORr8fHOJNzBF",
        "outputId": "aa0621f3-26a2-41dd-dfc4-abdd1b230cc8"
      },
      "execution_count": 10,
      "outputs": [
        {
          "output_type": "stream",
          "name": "stdout",
          "text": [
            "Test  R^2 Score : 0.24\n"
          ]
        }
      ]
    },
    {
      "cell_type": "code",
      "source": [
        "torch.manual_seed(42) ##For reproducibility.This will make sure that same random weights are initialized each time.\n",
        "\n",
        "epochs = 5000\n",
        "learning_rate = torch.tensor(0.001)\n",
        "\n",
        "regressor = Regressor()\n",
        "mse_loss = nn.MSELoss()\n",
        "optimizer = RMSprop(params=regressor.parameters(), lr=learning_rate)\n",
        "\n",
        "TrainModel(regressor, mse_loss, optimizer, X_train_reg, Y_train_reg, epochs=epochs)"
      ],
      "metadata": {
        "colab": {
          "base_uri": "https://localhost:8080/"
        },
        "id": "jQejI3bmMrjx",
        "outputId": "10fc8189-3a31-4595-f0da-eae9fef67ce6"
      },
      "execution_count": 11,
      "outputs": [
        {
          "output_type": "stream",
          "name": "stdout",
          "text": [
            "Loss : 5.82\n",
            "Loss : 0.41\n",
            "Loss : 0.37\n",
            "Loss : 0.37\n",
            "Loss : 0.37\n"
          ]
        }
      ]
    },
    {
      "cell_type": "code",
      "source": [
        "test_preds = regressor(X_test_reg)\n",
        "print(\"Test  R^2 Score : {:.2f}\".format(r2_score(test_preds.detach().numpy().squeeze(), Y_test_reg.detach().numpy())))"
      ],
      "metadata": {
        "colab": {
          "base_uri": "https://localhost:8080/"
        },
        "id": "VPX7RxqvNz3C",
        "outputId": "79fed713-03e8-47a2-c890-7376b8bf183c"
      },
      "execution_count": 12,
      "outputs": [
        {
          "output_type": "stream",
          "name": "stdout",
          "text": [
            "Test  R^2 Score : 0.60\n"
          ]
        }
      ]
    },
    {
      "cell_type": "code",
      "source": [
        "torch.manual_seed(42) ##For reproducibility.This will make sure that same random weights are initialized each time.\n",
        "\n",
        "epochs = 5000\n",
        "learning_rate = torch.tensor(0.001)\n",
        "\n",
        "regressor = Regressor()\n",
        "mse_loss = nn.MSELoss()\n",
        "optimizer = Adam(params=regressor.parameters(), lr=learning_rate)\n",
        "\n",
        "TrainModel(regressor, mse_loss, optimizer, X_train_reg, Y_train_reg, epochs=epochs)"
      ],
      "metadata": {
        "colab": {
          "base_uri": "https://localhost:8080/"
        },
        "id": "YcJhYdU7hyL6",
        "outputId": "422688b9-edc3-4276-f07e-a7fb0198e831"
      },
      "execution_count": 13,
      "outputs": [
        {
          "output_type": "stream",
          "name": "stdout",
          "text": [
            "Loss : 5.82\n",
            "Loss : 0.47\n",
            "Loss : 0.42\n",
            "Loss : 0.40\n",
            "Loss : 0.39\n"
          ]
        }
      ]
    },
    {
      "cell_type": "code",
      "source": [
        "test_preds = regressor(X_test_reg)\n",
        "print(\"Test  R^2 Score : {:.2f}\".format(r2_score(test_preds.detach().numpy().squeeze(), Y_test_reg.detach().numpy())))"
      ],
      "metadata": {
        "colab": {
          "base_uri": "https://localhost:8080/"
        },
        "id": "N-w9LQCVl2ru",
        "outputId": "c7576d43-c93d-4e3c-e48c-d1fa0c62688c"
      },
      "execution_count": 14,
      "outputs": [
        {
          "output_type": "stream",
          "name": "stdout",
          "text": [
            "Test  R^2 Score : 0.58\n"
          ]
        }
      ]
    },
    {
      "cell_type": "markdown",
      "source": [
        "Как видно из результатов, лучшим оптимайзером оказался RMS. На втором месте, с чуть похуже метриками Adam, и со значительным отставанием SGD."
      ],
      "metadata": {
        "id": "KneeEkwYPmRs"
      }
    }
  ],
  "metadata": {
    "kernelspec": {
      "display_name": "Python 3",
      "language": "python",
      "name": "python3"
    },
    "language_info": {
      "codemirror_mode": {
        "name": "ipython",
        "version": 3
      },
      "file_extension": ".py",
      "mimetype": "text/x-python",
      "name": "python",
      "nbconvert_exporter": "python",
      "pygments_lexer": "ipython3",
      "version": "3.7.4"
    },
    "colab": {
      "provenance": []
    },
    "accelerator": "GPU",
    "gpuClass": "standard"
  },
  "nbformat": 4,
  "nbformat_minor": 0
}