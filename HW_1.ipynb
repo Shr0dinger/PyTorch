{
  "cells": [
    {
      "cell_type": "code",
      "execution_count": null,
      "metadata": {
        "id": "_CNZn_3CofVO"
      },
      "outputs": [],
      "source": [
        "import torch\n",
        "import numpy as np"
      ]
    },
    {
      "cell_type": "code",
      "execution_count": null,
      "metadata": {
        "id": "QGYTKAxeofVR"
      },
      "outputs": [],
      "source": [
        "# 1. Создайте случайный FloatTensor размера 3x4x5"
      ]
    },
    {
      "cell_type": "code",
      "source": [
        "a = torch.FloatTensor\n",
        "a"
      ],
      "metadata": {
        "colab": {
          "base_uri": "https://localhost:8080/"
        },
        "id": "UvBlrGhzh7ve",
        "outputId": "4aa81a6f-1729-4720-992d-f8ffba62b406"
      },
      "execution_count": null,
      "outputs": [
        {
          "output_type": "execute_result",
          "data": {
            "text/plain": [
              "torch.FloatTensor"
            ]
          },
          "metadata": {},
          "execution_count": 3
        }
      ]
    },
    {
      "cell_type": "code",
      "source": [
        "a = torch.randint(-6,6, (3,4,5))\n",
        "a"
      ],
      "metadata": {
        "colab": {
          "base_uri": "https://localhost:8080/"
        },
        "id": "l4KCdjrNh9wD",
        "outputId": "2c628be3-ab53-4b8c-db89-271d3d41b561"
      },
      "execution_count": null,
      "outputs": [
        {
          "output_type": "execute_result",
          "data": {
            "text/plain": [
              "tensor([[[-5, -1, -3, -3, -2],\n",
              "         [-5, -3,  2, -6,  2],\n",
              "         [-3,  5, -5, -6,  5],\n",
              "         [-2, -2,  4,  4,  1]],\n",
              "\n",
              "        [[ 0, -6, -1,  3,  0],\n",
              "         [ 5,  3, -5,  4,  1],\n",
              "         [-5, -4,  1,  1, -6],\n",
              "         [-2,  4,  2, -6, -6]],\n",
              "\n",
              "        [[-4,  5,  2,  2,  0],\n",
              "         [ 3, -3, -5,  3, -4],\n",
              "         [ 4,  2,  4, -3, -3],\n",
              "         [ 4, -2,  2,  4, -4]]])"
            ]
          },
          "metadata": {},
          "execution_count": 4
        }
      ]
    },
    {
      "cell_type": "code",
      "execution_count": null,
      "metadata": {
        "id": "7GV_q8DdofVV"
      },
      "outputs": [],
      "source": [
        "# 2. Выведите его форму (shape)"
      ]
    },
    {
      "cell_type": "code",
      "source": [
        "a.shape"
      ],
      "metadata": {
        "colab": {
          "base_uri": "https://localhost:8080/"
        },
        "id": "4M5Jb6X3iCpH",
        "outputId": "09d2b9fb-6d05-4553-f8c0-8c10241dcfa3"
      },
      "execution_count": null,
      "outputs": [
        {
          "output_type": "execute_result",
          "data": {
            "text/plain": [
              "torch.Size([3, 4, 5])"
            ]
          },
          "metadata": {},
          "execution_count": 6
        }
      ]
    },
    {
      "cell_type": "code",
      "execution_count": null,
      "metadata": {
        "id": "f1OTy65FofVX"
      },
      "outputs": [],
      "source": [
        "# 3. Приведите его к форме 6х10"
      ]
    },
    {
      "cell_type": "code",
      "source": [
        "a = a.reshape(6,10)\n",
        "print(a.shape)\n",
        "a"
      ],
      "metadata": {
        "colab": {
          "base_uri": "https://localhost:8080/"
        },
        "id": "j5NV6YswiEd2",
        "outputId": "b0e97624-1e56-4941-8c96-bd171526ea5f"
      },
      "execution_count": null,
      "outputs": [
        {
          "output_type": "stream",
          "name": "stdout",
          "text": [
            "torch.Size([6, 10])\n"
          ]
        },
        {
          "output_type": "execute_result",
          "data": {
            "text/plain": [
              "tensor([[-5, -1, -3, -3, -2, -5, -3,  2, -6,  2],\n",
              "        [-3,  5, -5, -6,  5, -2, -2,  4,  4,  1],\n",
              "        [ 0, -6, -1,  3,  0,  5,  3, -5,  4,  1],\n",
              "        [-5, -4,  1,  1, -6, -2,  4,  2, -6, -6],\n",
              "        [-4,  5,  2,  2,  0,  3, -3, -5,  3, -4],\n",
              "        [ 4,  2,  4, -3, -3,  4, -2,  2,  4, -4]])"
            ]
          },
          "metadata": {},
          "execution_count": 8
        }
      ]
    },
    {
      "cell_type": "code",
      "execution_count": null,
      "metadata": {
        "id": "BEVOv9_TofVe"
      },
      "outputs": [],
      "source": [
        "# 4. Создайте случайный IntTensor размера 10"
      ]
    },
    {
      "cell_type": "code",
      "source": [
        "b = torch.IntTensor\n",
        "b = torch.randint(-2,3, (1,10))\n",
        "print(b.shape)\n",
        "b"
      ],
      "metadata": {
        "colab": {
          "base_uri": "https://localhost:8080/"
        },
        "id": "roL4NrfaiHEK",
        "outputId": "91cfb511-209d-4ebf-9c88-7f469d83f5e4"
      },
      "execution_count": null,
      "outputs": [
        {
          "output_type": "stream",
          "name": "stdout",
          "text": [
            "torch.Size([1, 10])\n"
          ]
        },
        {
          "output_type": "execute_result",
          "data": {
            "text/plain": [
              "tensor([[ 2, -1, -1,  1,  0, -2, -2, -1, -2,  1]])"
            ]
          },
          "metadata": {},
          "execution_count": 10
        }
      ]
    },
    {
      "cell_type": "code",
      "source": [
        "# 5. Умножьте созданный FloatTensor на созданный IntTensor поэлементно"
      ],
      "metadata": {
        "id": "TAX3DUiSa07K"
      },
      "execution_count": null,
      "outputs": []
    },
    {
      "cell_type": "code",
      "source": [
        "c = a.mul(b)\n",
        "c"
      ],
      "metadata": {
        "colab": {
          "base_uri": "https://localhost:8080/"
        },
        "id": "c1L8wwN9j9v7",
        "outputId": "3bf2454f-abf0-4725-bc5f-db8395585f7d"
      },
      "execution_count": null,
      "outputs": [
        {
          "output_type": "execute_result",
          "data": {
            "text/plain": [
              "tensor([[-10,   1,   3,  -3,   0,  10,   6,  -2,  12,   2],\n",
              "        [ -6,  -5,   5,  -6,   0,   4,   4,  -4,  -8,   1],\n",
              "        [  0,   6,   1,   3,   0, -10,  -6,   5,  -8,   1],\n",
              "        [-10,   4,  -1,   1,   0,   4,  -8,  -2,  12,  -6],\n",
              "        [ -8,  -5,  -2,   2,   0,  -6,   6,   5,  -6,  -4],\n",
              "        [  8,  -2,  -4,  -3,   0,  -8,   4,  -2,  -8,  -4]])"
            ]
          },
          "metadata": {},
          "execution_count": 12
        }
      ]
    },
    {
      "cell_type": "code",
      "execution_count": null,
      "metadata": {
        "id": "eUxdWlQZofVi"
      },
      "outputs": [],
      "source": [
        "# 6. Умножьте тензор матрично на себя, чтобы результат был размерности 6x6\n",
        "# Подсказка: .dot может не подойти"
      ]
    },
    {
      "cell_type": "code",
      "source": [
        "torch.matmul(c, c.reshape(-1,6))"
      ],
      "metadata": {
        "colab": {
          "base_uri": "https://localhost:8080/"
        },
        "id": "0xelrA8bkzBW",
        "outputId": "8a2cb8bc-5d45-46bd-e3e3-465fa5605ec1"
      },
      "execution_count": null,
      "outputs": [
        {
          "output_type": "execute_result",
          "data": {
            "text/plain": [
              "tensor([[ -71,  -73,  148,  -16, -121, -170],\n",
              "        [  87,   -8,  -94,   10,   12,  -77],\n",
              "        [ 203,   -9,  -50,   44,   73,   10],\n",
              "        [  67,   17,  -10,   92,   25,  -79],\n",
              "        [  62,   46,  -70,  -34,   62,  -36],\n",
              "        [  12,   53,  -24,  -58,   13,   75]])"
            ]
          },
          "metadata": {},
          "execution_count": 22
        }
      ]
    },
    {
      "cell_type": "code",
      "execution_count": null,
      "metadata": {
        "id": "u3V6CsNkofVj"
      },
      "outputs": [],
      "source": [
        "# 7. Посчитайте производную функции y = x**3 + z - 75t в точке (1, 0.5, 2)"
      ]
    },
    {
      "cell_type": "code",
      "source": [
        "x = torch.tensor(1.0, requires_grad=True)\n",
        "z = torch.tensor(0.5, requires_grad=True)\n",
        "t = torch.tensor(2.0, requires_grad=True)\n",
        "\n",
        "y = x**3 + z - 75*t\n",
        "y.backward(x)\n",
        "print(x.grad)"
      ],
      "metadata": {
        "colab": {
          "base_uri": "https://localhost:8080/"
        },
        "id": "18lPRP3MqORG",
        "outputId": "622292fc-019e-4500-9f8e-5cacd5a262c7"
      },
      "execution_count": null,
      "outputs": [
        {
          "output_type": "stream",
          "name": "stdout",
          "text": [
            "tensor(3.)\n"
          ]
        }
      ]
    },
    {
      "cell_type": "code",
      "execution_count": null,
      "metadata": {
        "id": "FzH6QkyxofVm"
      },
      "outputs": [],
      "source": [
        "# 8. Создайте единичный тензор размера 5x6"
      ]
    },
    {
      "cell_type": "code",
      "source": [
        "f = torch.ones(5,6)\n",
        "f"
      ],
      "metadata": {
        "colab": {
          "base_uri": "https://localhost:8080/"
        },
        "id": "K_eBp16uk0CU",
        "outputId": "d67b8fb1-8f9a-478d-d7af-9783991c0d99"
      },
      "execution_count": null,
      "outputs": [
        {
          "output_type": "execute_result",
          "data": {
            "text/plain": [
              "tensor([[1., 1., 1., 1., 1., 1.],\n",
              "        [1., 1., 1., 1., 1., 1.],\n",
              "        [1., 1., 1., 1., 1., 1.],\n",
              "        [1., 1., 1., 1., 1., 1.],\n",
              "        [1., 1., 1., 1., 1., 1.]])"
            ]
          },
          "metadata": {},
          "execution_count": 18
        }
      ]
    },
    {
      "cell_type": "code",
      "execution_count": null,
      "metadata": {
        "id": "z49ttvWPofVo"
      },
      "outputs": [],
      "source": [
        "# 9. Переведите его в формат numpy"
      ]
    },
    {
      "cell_type": "code",
      "source": [
        "f = f.numpy()\n",
        "f"
      ],
      "metadata": {
        "colab": {
          "base_uri": "https://localhost:8080/"
        },
        "id": "Te6qG_vGk0jq",
        "outputId": "5fdb8281-0f77-4098-d557-f2f43242eb04"
      },
      "execution_count": null,
      "outputs": [
        {
          "output_type": "execute_result",
          "data": {
            "text/plain": [
              "array([[1., 1., 1., 1., 1., 1.],\n",
              "       [1., 1., 1., 1., 1., 1.],\n",
              "       [1., 1., 1., 1., 1., 1.],\n",
              "       [1., 1., 1., 1., 1., 1.],\n",
              "       [1., 1., 1., 1., 1., 1.]], dtype=float32)"
            ]
          },
          "metadata": {},
          "execution_count": 20
        }
      ]
    }
  ],
  "metadata": {
    "kernelspec": {
      "display_name": "Python 3",
      "language": "python",
      "name": "python3"
    },
    "language_info": {
      "codemirror_mode": {
        "name": "ipython",
        "version": 3
      },
      "file_extension": ".py",
      "mimetype": "text/x-python",
      "name": "python",
      "nbconvert_exporter": "python",
      "pygments_lexer": "ipython3",
      "version": "3.7.4"
    },
    "colab": {
      "provenance": []
    }
  },
  "nbformat": 4,
  "nbformat_minor": 0
}