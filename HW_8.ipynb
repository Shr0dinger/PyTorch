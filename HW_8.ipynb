{
  "nbformat": 4,
  "nbformat_minor": 0,
  "metadata": {
    "colab": {
      "provenance": []
    },
    "kernelspec": {
      "name": "python3",
      "display_name": "Python 3"
    },
    "language_info": {
      "name": "python"
    },
    "accelerator": "GPU",
    "gpuClass": "standard"
  },
  "cells": [
    {
      "cell_type": "code",
      "source": [
        "import os\n",
        "import numpy as np\n",
        "import math\n",
        "\n",
        "from torch.utils.data import DataLoader\n",
        "import torchvision.transforms as transforms\n",
        "from torchvision import datasets\n",
        "from torch.autograd import Variable\n",
        "\n",
        "import torch.nn as nn\n",
        "import torch\n",
        "\n",
        "import matplotlib.pyplot as plt\n",
        "from IPython import display\n",
        "from torchvision.utils import save_image, make_grid"
      ],
      "metadata": {
        "id": "gwAm3G8JfSK1"
      },
      "execution_count": 1,
      "outputs": []
    },
    {
      "cell_type": "code",
      "source": [
        "device = 'cuda' if torch.cuda.is_available() else 'cpu'\n",
        "device"
      ],
      "metadata": {
        "colab": {
          "base_uri": "https://localhost:8080/",
          "height": 36
        },
        "id": "KYEkkHWrfSIF",
        "outputId": "99cb3098-3401-4eb5-f1f7-819e1c82d98e"
      },
      "execution_count": 2,
      "outputs": [
        {
          "output_type": "execute_result",
          "data": {
            "text/plain": [
              "'cuda'"
            ],
            "application/vnd.google.colaboratory.intrinsic+json": {
              "type": "string"
            }
          },
          "metadata": {},
          "execution_count": 2
        }
      ]
    },
    {
      "cell_type": "code",
      "source": [
        "torch.manual_seed(15)"
      ],
      "metadata": {
        "colab": {
          "base_uri": "https://localhost:8080/"
        },
        "id": "1Su1lZoelT4o",
        "outputId": "a16803b3-c984-473b-de6a-962b1bebe21f"
      },
      "execution_count": 3,
      "outputs": [
        {
          "output_type": "execute_result",
          "data": {
            "text/plain": [
              "<torch._C.Generator at 0x7f2a8c629730>"
            ]
          },
          "metadata": {},
          "execution_count": 3
        }
      ]
    },
    {
      "cell_type": "code",
      "source": [
        "train_data_length = 1024\n",
        "train_data = torch.zeros((train_data_length, 2))\n",
        "train_data[:, 0] = torch.randn(train_data_length)\n",
        "train_data[:, 1] = (torch.sin(train_data[:, 0])/ (train_data[:, 0])) - ((train_data[:, 0])/10)\n",
        "train_labels = torch.zeros(train_data_length)\n",
        "train_set = [(train_data[i], train_labels[i]) for i in range(train_data_length)]\n",
        "\n",
        "train_data2 = torch.zeros((train_data_length, 2))\n",
        "train_data2[:, 0] = torch.randn(train_data_length)\n",
        "train_data2[:, 1] = (0.2*(torch.sin(3*(train_data2[:, 0]))) * (train_data2[:, 0])**2)\n",
        "train_labels2 = torch.zeros(train_data_length)\n",
        "train_set2 = [(train_data2[i], train_labels2[i]) for i in range(train_data_length)]"
      ],
      "metadata": {
        "id": "81mN0WS3hN5w"
      },
      "execution_count": 4,
      "outputs": []
    },
    {
      "cell_type": "markdown",
      "source": [
        "Для лучшего анализа работы обученной модели построим дополнительный график повышенной сложности:"
      ],
      "metadata": {
        "id": "-2w6Nt3BIKfp"
      }
    },
    {
      "cell_type": "code",
      "source": [
        "fig, (ax1,ax2) = plt.subplots(1, 2, figsize=(20, 5))\n",
        "ax1.set_title('sin(x)/x - x/10')\n",
        "ax1.grid(True)\n",
        "ax1.plot(train_data[:, 0], train_data[:, 1], \".\", color='r')\n",
        "\n",
        "ax2.set_title('0.2*sin(3*x)*x^2')\n",
        "ax2.grid(True)\n",
        "ax2.plot(train_data2[:, 0], train_data2[:, 1], \".\", color='g')"
      ],
      "metadata": {
        "colab": {
          "base_uri": "https://localhost:8080/",
          "height": 353
        },
        "id": "GJxZN4NxysaN",
        "outputId": "fbe442fd-b390-489a-fa4b-a3fb1ca69300"
      },
      "execution_count": 5,
      "outputs": [
        {
          "output_type": "execute_result",
          "data": {
            "text/plain": [
              "[<matplotlib.lines.Line2D at 0x7f29f0076ac0>]"
            ]
          },
          "metadata": {},
          "execution_count": 5
        },
        {
          "output_type": "display_data",
          "data": {
            "text/plain": [
              "<Figure size 1440x360 with 2 Axes>"
            ],
            "image/png": "[encoded data removed]"
          },
          "metadata": {
            "needs_background": "light"
          }
        }
      ]
    },
    {
      "cell_type": "code",
      "source": [
        "batch_size = 32\n",
        "train_loader = torch.utils.data.DataLoader(train_set, batch_size=batch_size, shuffle=True)\n",
        "train_loader2 = torch.utils.data.DataLoader(train_set2, batch_size=batch_size, shuffle=True)"
      ],
      "metadata": {
        "id": "V0AmgK59mRGV"
      },
      "execution_count": 6,
      "outputs": []
    },
    {
      "cell_type": "code",
      "source": [
        "class Discriminator(nn.Module):\n",
        "    def __init__(self):\n",
        "        super().__init__()\n",
        "        self.model = nn.Sequential(\n",
        "            nn.Linear(2, 256),\n",
        "            nn.ReLU(),\n",
        "            nn.Dropout(0.3),\n",
        "            nn.Linear(256, 128),\n",
        "            nn.ReLU(),\n",
        "            nn.Dropout(0.3),\n",
        "            nn.Linear(128, 64),\n",
        "            nn.ReLU(),\n",
        "            nn.Dropout(0.3),\n",
        "            nn.Linear(64, 1),\n",
        "            nn.Sigmoid())\n",
        "\n",
        "    def forward(self, x):\n",
        "        output = self.model(x)\n",
        "        return output"
      ],
      "metadata": {
        "id": "u0VtkONqmRDA"
      },
      "execution_count": 7,
      "outputs": []
    },
    {
      "cell_type": "code",
      "source": [
        "class Generator(nn.Module):\n",
        "    def __init__(self):\n",
        "        super().__init__()\n",
        "        self.model = nn.Sequential(\n",
        "            nn.Linear(2, 16),\n",
        "            nn.ReLU(),\n",
        "            nn.Linear(16, 32),\n",
        "            nn.ReLU(),\n",
        "            nn.Linear(32, 2))\n",
        "\n",
        "    def forward(self, x):\n",
        "        output = self.model(x)\n",
        "        return output"
      ],
      "metadata": {
        "id": "blnMf9jEfR_x"
      },
      "execution_count": 8,
      "outputs": []
    },
    {
      "cell_type": "markdown",
      "source": [
        "Обучение сети для первого графика:"
      ],
      "metadata": {
        "id": "ZXR9fbPh16u1"
      }
    },
    {
      "cell_type": "code",
      "source": [
        "lr = 0.001\n",
        "num_epochs = 2000\n",
        "loss_function = torch.nn.BCELoss()"
      ],
      "metadata": {
        "id": "QD7s75-LgrRc"
      },
      "execution_count": 9,
      "outputs": []
    },
    {
      "cell_type": "code",
      "source": [
        "generator = Generator()\n",
        "discriminator = Discriminator()\n",
        "\n",
        "optimizer_discriminator = torch.optim.Adam(discriminator.parameters(), lr=lr)\n",
        "optimizer_generator = torch.optim.Adam(generator.parameters(), lr=lr)"
      ],
      "metadata": {
        "id": "haq5d90wgrOk"
      },
      "execution_count": 10,
      "outputs": []
    },
    {
      "cell_type": "code",
      "source": [
        "for epoch in range(num_epochs):\n",
        "    for n, (real_samples, _) in enumerate(train_loader):\n",
        "      \n",
        "        # Данные для обучения дискриминатора\n",
        "        real_samples_labels = torch.ones((batch_size, 1))\n",
        "        latent_space_samples = torch.randn((batch_size, 2))\n",
        "        generated_samples = generator(latent_space_samples)\n",
        "        generated_samples_labels = torch.zeros((batch_size, 1))\n",
        "        all_samples = torch.cat((real_samples, generated_samples))\n",
        "        all_samples_labels = torch.cat((real_samples_labels, generated_samples_labels))\n",
        "\n",
        "        # Обучение дискриминатора\n",
        "        discriminator.zero_grad()\n",
        "        output_discriminator = discriminator(all_samples)\n",
        "        loss_discriminator = loss_function(\n",
        "            output_discriminator, all_samples_labels)\n",
        "        loss_discriminator.backward()\n",
        "        optimizer_discriminator.step()\n",
        "\n",
        "        # Данные для обучения генератора\n",
        "        latent_space_samples = torch.randn((batch_size, 2))\n",
        "\n",
        "        # Обучение генератора\n",
        "        generator.zero_grad()\n",
        "        generated_samples = generator(latent_space_samples)\n",
        "        output_discriminator_generated = discriminator(generated_samples)\n",
        "        loss_generator = loss_function(output_discriminator_generated, real_samples_labels)\n",
        "        loss_generator.backward()\n",
        "        optimizer_generator.step()\n",
        "        \n",
        "        if epoch % 100 == 0 and n == batch_size - 1:\n",
        "            print(f\"Epoch: {epoch} Loss D.: {loss_discriminator}\")\n",
        "            print(f\"Epoch: {epoch} Loss G.: {loss_generator}\") "
      ],
      "metadata": {
        "colab": {
          "base_uri": "https://localhost:8080/"
        },
        "id": "7RZUFUpIoLfc",
        "outputId": "62685dfc-899a-499d-9343-e650429a82bf"
      },
      "execution_count": 11,
      "outputs": [
        {
          "output_type": "stream",
          "name": "stdout",
          "text": [
            "Epoch: 0 Loss D.: 0.3639071583747864\n",
            "Epoch: 0 Loss G.: 1.5615867376327515\n",
            "Epoch: 100 Loss D.: 0.6451308131217957\n",
            "Epoch: 100 Loss G.: 0.7097068428993225\n",
            "Epoch: 200 Loss D.: 0.6632488965988159\n",
            "Epoch: 200 Loss G.: 0.7638133764266968\n",
            "Epoch: 300 Loss D.: 0.7396841645240784\n",
            "Epoch: 300 Loss G.: 0.5801386833190918\n",
            "Epoch: 400 Loss D.: 0.6854815483093262\n",
            "Epoch: 400 Loss G.: 0.7046387195587158\n",
            "Epoch: 500 Loss D.: 0.6886464357376099\n",
            "Epoch: 500 Loss G.: 0.6922067999839783\n",
            "Epoch: 600 Loss D.: 0.6907821893692017\n",
            "Epoch: 600 Loss G.: 0.6911368370056152\n",
            "Epoch: 700 Loss D.: 0.6926401257514954\n",
            "Epoch: 700 Loss G.: 0.6968660950660706\n",
            "Epoch: 800 Loss D.: 0.6954510807991028\n",
            "Epoch: 800 Loss G.: 0.685655415058136\n",
            "Epoch: 900 Loss D.: 0.6950152516365051\n",
            "Epoch: 900 Loss G.: 0.6940191388130188\n",
            "Epoch: 1000 Loss D.: 0.685448408126831\n",
            "Epoch: 1000 Loss G.: 0.6986267566680908\n",
            "Epoch: 1100 Loss D.: 0.6942548751831055\n",
            "Epoch: 1100 Loss G.: 0.695698082447052\n",
            "Epoch: 1200 Loss D.: 0.6938145756721497\n",
            "Epoch: 1200 Loss G.: 0.6797245144844055\n",
            "Epoch: 1300 Loss D.: 0.6900510191917419\n",
            "Epoch: 1300 Loss G.: 0.6942570209503174\n",
            "Epoch: 1400 Loss D.: 0.6925207376480103\n",
            "Epoch: 1400 Loss G.: 0.692826509475708\n",
            "Epoch: 1500 Loss D.: 0.6960828900337219\n",
            "Epoch: 1500 Loss G.: 0.6825287938117981\n",
            "Epoch: 1600 Loss D.: 0.6834343671798706\n",
            "Epoch: 1600 Loss G.: 0.7074826955795288\n",
            "Epoch: 1700 Loss D.: 0.6889921426773071\n",
            "Epoch: 1700 Loss G.: 0.7140485048294067\n",
            "Epoch: 1800 Loss D.: 0.7632875442504883\n",
            "Epoch: 1800 Loss G.: 0.6085230708122253\n",
            "Epoch: 1900 Loss D.: 0.7091056108474731\n",
            "Epoch: 1900 Loss G.: 0.6917037963867188\n"
          ]
        }
      ]
    },
    {
      "cell_type": "code",
      "source": [
        "latent_space_samples = torch.randn(1000, 2)\n",
        "generated_samples = generator(latent_space_samples)"
      ],
      "metadata": {
        "id": "TpGWMSb42eiw"
      },
      "execution_count": 12,
      "outputs": []
    },
    {
      "cell_type": "code",
      "source": [
        "generated_samples = generated_samples.detach()\n",
        "\n",
        "fig, (ax1,ax2) = plt.subplots(1, 2, figsize=(20, 5))\n",
        "ax1.set_title('sin(x)/x - x/10')\n",
        "ax1.grid(True)\n",
        "ax1.plot(train_data[:, 0], train_data[:, 1], \".\", color='r')\n",
        "\n",
        "ax2.set_title('Generated')\n",
        "ax2.grid(True)\n",
        "ax2.plot(generated_samples[:, 0], generated_samples[:, 1], \".\")"
      ],
      "metadata": {
        "colab": {
          "base_uri": "https://localhost:8080/",
          "height": 353
        },
        "id": "6VUqiPA8ASt7",
        "outputId": "19656f29-7b2d-4ca5-9b56-6e8d3d145dbd"
      },
      "execution_count": 13,
      "outputs": [
        {
          "output_type": "execute_result",
          "data": {
            "text/plain": [
              "[<matplotlib.lines.Line2D at 0x7f29dff7d1f0>]"
            ]
          },
          "metadata": {},
          "execution_count": 13
        },
        {
          "output_type": "display_data",
          "data": {
            "text/plain": [
              "<Figure size 1440x360 with 2 Axes>"
            ],
            "image/png": "[encoded data removed]"
          },
          "metadata": {
            "needs_background": "light"
          }
        }
      ]
    },
    {
      "cell_type": "markdown",
      "source": [
        "Обучим модель для второго графика:"
      ],
      "metadata": {
        "id": "Cgt9AKuwBf5P"
      }
    },
    {
      "cell_type": "code",
      "source": [
        "for epoch in range(num_epochs):\n",
        "    for n, (real_samples, _) in enumerate(train_loader2):\n",
        "      \n",
        "        # Данные для обучения дискриминатора\n",
        "        real_samples_labels = torch.ones((batch_size, 1))\n",
        "        latent_space_samples = torch.randn((batch_size, 2))\n",
        "        generated_samples = generator(latent_space_samples)\n",
        "        generated_samples_labels = torch.zeros((batch_size, 1))\n",
        "        all_samples = torch.cat((real_samples, generated_samples))\n",
        "        all_samples_labels = torch.cat((real_samples_labels, generated_samples_labels))\n",
        "\n",
        "        # Обучение дискриминатора\n",
        "        discriminator.zero_grad()\n",
        "        output_discriminator = discriminator(all_samples)\n",
        "        loss_discriminator = loss_function(\n",
        "            output_discriminator, all_samples_labels)\n",
        "        loss_discriminator.backward()\n",
        "        optimizer_discriminator.step()\n",
        "\n",
        "        # Данные для обучения генератора\n",
        "        latent_space_samples = torch.randn((batch_size, 2))\n",
        "\n",
        "        # Обучение генератора\n",
        "        generator.zero_grad()\n",
        "        generated_samples = generator(latent_space_samples)\n",
        "        output_discriminator_generated = discriminator(generated_samples)\n",
        "        loss_generator = loss_function(output_discriminator_generated, real_samples_labels)\n",
        "        loss_generator.backward()\n",
        "        optimizer_generator.step()\n",
        "        \n",
        "        if epoch % 100 == 0 and n == batch_size - 1:\n",
        "            print(f\"Epoch: {epoch} Loss D.: {loss_discriminator}\")\n",
        "            print(f\"Epoch: {epoch} Loss G.: {loss_generator}\") "
      ],
      "metadata": {
        "colab": {
          "base_uri": "https://localhost:8080/"
        },
        "id": "iX6Xg0Zi9MIA",
        "outputId": "b63fe719-a0b9-4363-c59b-d331f98e6693"
      },
      "execution_count": 14,
      "outputs": [
        {
          "output_type": "stream",
          "name": "stdout",
          "text": [
            "Epoch: 0 Loss D.: 0.4011913239955902\n",
            "Epoch: 0 Loss G.: 0.681782066822052\n",
            "Epoch: 100 Loss D.: 0.6522839069366455\n",
            "Epoch: 100 Loss G.: 0.7595942616462708\n",
            "Epoch: 200 Loss D.: 0.6712222099304199\n",
            "Epoch: 200 Loss G.: 0.7314609289169312\n",
            "Epoch: 300 Loss D.: 0.6931800246238708\n",
            "Epoch: 300 Loss G.: 0.712434709072113\n",
            "Epoch: 400 Loss D.: 0.6619136333465576\n",
            "Epoch: 400 Loss G.: 0.711402416229248\n",
            "Epoch: 500 Loss D.: 0.6172513961791992\n",
            "Epoch: 500 Loss G.: 0.729020893573761\n",
            "Epoch: 600 Loss D.: 0.6032484173774719\n",
            "Epoch: 600 Loss G.: 0.8564910888671875\n",
            "Epoch: 700 Loss D.: 0.5130791664123535\n",
            "Epoch: 700 Loss G.: 1.1378247737884521\n",
            "Epoch: 800 Loss D.: 0.415614515542984\n",
            "Epoch: 800 Loss G.: 1.3611592054367065\n",
            "Epoch: 900 Loss D.: 0.5789532661437988\n",
            "Epoch: 900 Loss G.: 1.2409452199935913\n",
            "Epoch: 1000 Loss D.: 0.5466920733451843\n",
            "Epoch: 1000 Loss G.: 1.5681707859039307\n",
            "Epoch: 1100 Loss D.: 0.48241710662841797\n",
            "Epoch: 1100 Loss G.: 0.9675742387771606\n",
            "Epoch: 1200 Loss D.: 0.47131818532943726\n",
            "Epoch: 1200 Loss G.: 1.4144043922424316\n",
            "Epoch: 1300 Loss D.: 0.5841310024261475\n",
            "Epoch: 1300 Loss G.: 1.1278809309005737\n",
            "Epoch: 1400 Loss D.: 0.48903053998947144\n",
            "Epoch: 1400 Loss G.: 0.9704597592353821\n",
            "Epoch: 1500 Loss D.: 0.30921775102615356\n",
            "Epoch: 1500 Loss G.: 2.0491437911987305\n",
            "Epoch: 1600 Loss D.: 0.5399079918861389\n",
            "Epoch: 1600 Loss G.: 1.444814920425415\n",
            "Epoch: 1700 Loss D.: 0.5221982598304749\n",
            "Epoch: 1700 Loss G.: 2.137094497680664\n",
            "Epoch: 1800 Loss D.: 0.5234604477882385\n",
            "Epoch: 1800 Loss G.: 2.1041741371154785\n",
            "Epoch: 1900 Loss D.: 0.47907403111457825\n",
            "Epoch: 1900 Loss G.: 2.1426634788513184\n"
          ]
        }
      ]
    },
    {
      "cell_type": "code",
      "source": [
        "latent_space_samples = torch.randn(500, 2)\n",
        "generated_samples2 = generator(latent_space_samples)"
      ],
      "metadata": {
        "id": "vKNy7GcNAhLn"
      },
      "execution_count": 15,
      "outputs": []
    },
    {
      "cell_type": "code",
      "source": [
        "generated_samples2 = generated_samples2.detach()\n",
        "\n",
        "fig, (ax1,ax2) = plt.subplots(1, 2, figsize=(20, 5))\n",
        "ax1.set_title('0.2*sin(3*x)*x^2')\n",
        "ax1.grid(True)\n",
        "ax1.plot(train_data2[:, 0], train_data2[:, 1], \".\", color='g')\n",
        "\n",
        "ax2.set_title('Generated')\n",
        "ax2.grid(True)\n",
        "ax2.plot(generated_samples2[:, 0], generated_samples2[:, 1], \".\")"
      ],
      "metadata": {
        "colab": {
          "base_uri": "https://localhost:8080/",
          "height": 353
        },
        "id": "KsnYK7WpAqqy",
        "outputId": "99b7342e-9cba-4d94-c538-1259aa887792"
      },
      "execution_count": 16,
      "outputs": [
        {
          "output_type": "execute_result",
          "data": {
            "text/plain": [
              "[<matplotlib.lines.Line2D at 0x7f29dfec1580>]"
            ]
          },
          "metadata": {},
          "execution_count": 16
        },
        {
          "output_type": "display_data",
          "data": {
            "text/plain": [
              "<Figure size 1440x360 with 2 Axes>"
            ],
            "image/png": "[encoded data removed]"
          },
          "metadata": {
            "needs_background": "light"
          }
        }
      ]
    },
    {
      "cell_type": "markdown",
      "source": [
        "Как видно по результатам, несложный по форме график сгенерировался без особых проблем, но со сложным возникли трудности даже при 2000 эпохах. Отсутствуют мелкие детали, искажены пропорции и формы. Вероятно, для достижения лучших результатов необходимо увеличивать количество эпох."
      ],
      "metadata": {
        "id": "9xCZ8IP4IUo2"
      }
    }
  ]
}